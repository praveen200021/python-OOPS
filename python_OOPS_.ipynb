{
  "nbformat": 4,
  "nbformat_minor": 0,
  "metadata": {
    "colab": {
      "provenance": []
    },
    "kernelspec": {
      "name": "python3",
      "display_name": "Python 3"
    },
    "language_info": {
      "name": "python"
    }
  },
  "cells": [
    {
      "cell_type": "code",
      "execution_count": null,
      "metadata": {
        "id": "yvqGPNkD-6P_"
      },
      "outputs": [],
      "source": []
    },
    {
      "cell_type": "markdown",
      "source": [
        "1. What is Object-Oriented Programming (OOP)?\n",
        "\n",
        "  sol:Object-Oriented Programming (OOP) is a programming paradigm that organizes software design around objects, rather than functions and logic. These objects are instances of classes, which can hold data (attributes) and behavior (methods).\n",
        "\n",
        "---\n",
        "\n",
        "\n",
        "\n",
        "2. What is a class in OOP.\n",
        "\n",
        "  sol:A class in Object-Oriented Programming is a blueprint for creating objects that defines their attributes (data) and methods (behavior).\n",
        "\n",
        "---\n",
        "\n",
        "3. What is an object in OOP.\n",
        "\n",
        "  sol:An object in Object-Oriented Programming is an instance of a class that contains real values for the attributes and can perform the defined methods.\n",
        "\n",
        "---\n",
        "\n",
        "\n",
        "4. What is the difference between abstraction and encapsulation.\n",
        "\n",
        "  sol:\n",
        "Abstraction: Hides unnecessary details and shows only essential features of an object.  \n",
        "- Encapsulation: Wraps data and methods together and restricts direct access to the data.\n",
        "\n",
        "---\n",
        "\n",
        "\n",
        "5. What are dunder methods in Python\n",
        "\n",
        "  sol:Dunder methods (short for “double underscore” methods) in Python are special methods with names that start and end with double underscores, used to define the behavior of objects (also called magic methods).\n",
        "\n",
        "init__ – constructor\n",
        "\n",
        "__str__ – string representation\n",
        "\n",
        "__len__ – length\n",
        "\n",
        "__add__ – add two objects\n",
        "\n",
        "__eq__ – compare objects\n",
        "\n",
        "---\n",
        "\n",
        "\n",
        "6. Explain the concept of inheritance in OOPS.\n",
        "\n",
        "  sol:Inheritance is a feature in Object-Oriented Programming where a child class (or subclass) can inherit properties and behaviors (attributes and methods) from a parent class (or superclass).\n",
        "\n",
        "\n",
        "---\n",
        "\n",
        "\n",
        "7. What is polymorphism in OOPS.\n",
        "\n",
        "  sol:it allows the same method or operation to behave differently depending on the object it is acting on.\n",
        "\n",
        "---\n",
        "\n",
        "\n",
        "8.  How is encapsulation achieved in Python.\n",
        "\n",
        "  sol:Using classes to bundle data (attributes) and methods together.\n",
        "\n",
        "Restricting access to internal data by using:\n",
        "\n",
        "* Public attributes: accessible from anywhere (no underscore)\n",
        "\n",
        "* Protected attributes: conventionally intended to be used only inside the class or subclasses (_name)\n",
        "\n",
        "* Private attributes: not directly accessible outside the class (__name)\n",
        "\n",
        "---\n",
        "\n",
        "\n",
        "9. What is a constructor in Python.\n",
        "\n",
        "  sol:A constructor is a special method used to initialize a newly created object of a class.The constructor method is called __init__() and is automatically called when you create an object.\n",
        "\n",
        "---\n",
        "\n",
        "\n",
        "10. What are class and static methods in Python.\n",
        "\n",
        "  sol:Class Method: A method that works with the class itself using cls, not individual objects.\n",
        "\n",
        "* Static Method: A method that doesn’t depend on the class or object and behaves like a regular function inside a class.\n",
        "\n",
        "---\n",
        "\n",
        "\n",
        "11. What is method overloading in Python.\n",
        "\n",
        "  sol:Method Overloading means defining multiple methods with the same name but different parameters.\n",
        "\n",
        "\n",
        "---\n",
        "\n",
        "\n",
        "12. What is method overriding in OOPS.\n",
        "\n",
        "  sol:Method Overriding is when a child class provides a new implementation of a method that is already defined in its parent class.Method overriding lets a subclass change or customize a method from its parent class.\n",
        "\n",
        "---\n",
        "\n",
        "\n",
        "\n",
        "13. What is a property decorator in Python?\n",
        "  \n",
        "  sol:The property decorator in Python is used to turn a method into a read-only attribute, allowing you to access it like a variable while still using logic behind the scenes.\n",
        "\n",
        "---\n",
        "\n",
        "\n",
        "  \n",
        "14. Why is polymorphism important in OOPS?\n",
        "\n",
        "  sol:Polymorphism is important in Object-Oriented Programming because it allows you to write flexible, reusable, and scalable code by using a common interface for different types of objects.\n",
        "\n",
        "---\n",
        "\n",
        "15. What is an abstract class in Python?\n",
        "\n",
        "  sol:An abstract class is a class that cannot be instantiated on its own and is meant to be inherited by other classes. It can have abstract methods (without implementation) that must be defined in any child class.\n",
        "\n",
        "---\n",
        "\n",
        "\n",
        "16. What are the advantages of OOPS?\n",
        "\n",
        "  sol:Modularity – Code is organized into classes.\n",
        "\n",
        "* Reusability – Inheritance allows code reuse.\n",
        "\n",
        "* Encapsulation – Protects data within objects.\n",
        "\n",
        "* Abstraction – Hides complexity, shows only essentials.\n",
        "\n",
        "* Polymorphism – Same method works in different ways.\n",
        "\n",
        "---\n",
        "\n",
        "\n",
        "17. What is the difference between a class variable and an instance variable?\n",
        "\n",
        "  sol: A **class variable** is shared by all instances of a class, while an **instance variable** is unique to each individual object.\n",
        "\n",
        "\n",
        "---\n",
        "\n",
        "\n",
        "18. What is multiple inheritance in Python?\n",
        "\n",
        "  SOL:Multiple inheritance is when a class inherits from more than one parent class, gaining features from all of them.\n",
        "\n",
        "\n",
        "\n",
        "---\n",
        "\n",
        "\n",
        "19. Explain the purpose of ‘’__str__’ and ‘__repr__’ ‘ methods in Python?\n",
        "\n",
        "  sol: ‘’__str__’- Returns a readable string for users (used by print()).\n",
        "  * ‘__repr__’ - Returns a technical/official string for developers (used in debugging, or when typing the object in the console).\n",
        "\n",
        "---\n",
        "\n",
        "\n",
        "\n",
        "\n",
        "20. What is the significance of the ‘super()’ function in Python\n",
        "\n",
        "  sol:The super() function is used to call methods from a parent (super) class in a child class — often used in inheritance to reuse and extend functionality.\n",
        "\n",
        "---\n",
        "\n",
        "\n",
        "\n",
        "\n",
        "21. What is the significance of the __del__ method in Python\n",
        "\n",
        "  sol:The __del__ method is a destructor in Python that is called automatically when an object is about to be destroyed, allowing you to perform cleanup actions like closing files or releasing resources.\n",
        "\n",
        "---\n",
        "\n",
        "\n",
        "22. What is the difference between @staticmethod and @classmethod in Python\n",
        "\n",
        "  sol:@staticmethod: Doesn't require access to class or instance; for utility functions.\n",
        "\n",
        "* @classmethod: Takes cls and can access/modifies class-level data.\n",
        "\n",
        "---\n",
        "\n",
        "\n",
        "23. How does polymorphism work in Python with inheritance\n",
        "\n",
        "  sol:In Python, polymorphism allows different classes to use the same method name but provide their own specific behavior. When used with inheritance, a child class can override a method from the parent class, and the correct version of the method is called based on the object type.\n",
        "\n",
        "---\n",
        "\n",
        "24. What is method chaining in Python OOP\n",
        "\n",
        "  sol:Method chaining is the practice of calling multiple methods on the same object in a single line, where each method call returns the object itself (or a modified version of it). This allows for a more compact and concise code style.\n",
        "\n",
        "---\n",
        "\n",
        "\n",
        "25. What is the purpose of the __call__ method in Python?\n",
        "\n",
        "  sol:The __call__ method in Python allows an instance of a class to be called like a function. When an object with a __call__ method is used with parentheses (e.g., obj()), it triggers the __call__ method, enabling the object to behave like a function.\n",
        "\n"
      ],
      "metadata": {
        "id": "KAcfBMG6_Br1"
      }
    },
    {
      "cell_type": "code",
      "source": [
        "#1. Create a parent class Animal with a method speak() that prints a generic message. Create a child class Dog that overrides the speak() method to print \"Bark!\".\n",
        "class Animal:\n",
        "    def speak(self):\n",
        "        print(\"Animal makes a sound\")\n",
        "\n",
        "class Dog(Animal):\n",
        "    def speak(self):\n",
        "        print(\"Bark!\")\n",
        "animal = Animal()\n",
        "dog = Dog()\n",
        "\n",
        "animal.speak()\n",
        "dog.speak()"
      ],
      "metadata": {
        "colab": {
          "base_uri": "https://localhost:8080/"
        },
        "id": "4TWVp34vljmu",
        "outputId": "3fd51c93-3783-4edd-871e-eb1e2a6e6de0"
      },
      "execution_count": 3,
      "outputs": [
        {
          "output_type": "stream",
          "name": "stdout",
          "text": [
            "Animal makes a sound\n",
            "Bark!\n"
          ]
        }
      ]
    },
    {
      "cell_type": "code",
      "source": [
        "#2. Write a program to create an abstract class Shape with a method area(). Derive classes Circle and Rectangle from it and implement the area() method in both\n",
        "\n",
        "from abc import ABC, abstractmethod\n",
        "import math\n",
        "\n",
        "# Abstract class Shape\n",
        "class Shape(ABC):\n",
        "    @abstractmethod\n",
        "    def area(self):\n",
        "        pass\n",
        "\n",
        "# Circle class\n",
        "class Circle(Shape):\n",
        "    def __init__(self, radius):\n",
        "        self.radius = radius\n",
        "\n",
        "    def area(self):\n",
        "        return math.pi * self.radius ** 2\n",
        "\n",
        "# Rectangle class\n",
        "class Rectangle(Shape):\n",
        "    def __init__(self, length, width):\n",
        "        self.length = length\n",
        "        self.width = width\n",
        "\n",
        "    def area(self):\n",
        "        return self.length * self.width\n",
        "\n",
        "# Creating objects\n",
        "circle = Circle(5)\n",
        "rectangle = Rectangle(4, 6)\n",
        "\n",
        "# Output area\n",
        "print(\"Circle Area:\", circle.area())    # Output: Circle Area: 78.53981633974483\n",
        "print(\"Rectangle Area:\", rectangle.area())  # Output: Rectangle Area: 24\n"
      ],
      "metadata": {
        "colab": {
          "base_uri": "https://localhost:8080/"
        },
        "id": "GBicxazGmvmQ",
        "outputId": "4c9a71ae-de54-49e4-ab0a-d9ece429c140"
      },
      "execution_count": 4,
      "outputs": [
        {
          "output_type": "stream",
          "name": "stdout",
          "text": [
            "Circle Area: 78.53981633974483\n",
            "Rectangle Area: 24\n"
          ]
        }
      ]
    },
    {
      "cell_type": "code",
      "source": [
        "# 3. Implement a multi-level inheritance scenario where a class Vehicle has an attribute type. Derive a class Car and further derive a class ElectricCar that adds a battery attribute.\n",
        "\n",
        "# Base class Vehicle\n",
        "class Vehicle:\n",
        "    def __init__(self, type_of_vehicle):\n",
        "        self.type = type_of_vehicle\n",
        "\n",
        "    def display_type(self):\n",
        "        print(f\"Vehicle type: {self.type}\")\n",
        "\n",
        "# Derived class Car\n",
        "class Car(Vehicle):\n",
        "    def __init__(self, type_of_vehicle, make):\n",
        "        super().__init__(type_of_vehicle)  # Call Vehicle's constructor\n",
        "        self.make = make\n",
        "\n",
        "    def display_make(self):\n",
        "        print(f\"Car make: {self.make}\")\n",
        "\n",
        "# Further derived class ElectricCar\n",
        "class ElectricCar(Car):\n",
        "    def __init__(self, type_of_vehicle, make, battery_capacity):\n",
        "        super().__init__(type_of_vehicle, make)  # Call Car's constructor\n",
        "        self.battery_capacity = battery_capacity\n",
        "\n",
        "    def display_battery(self):\n",
        "        print(f\"Battery capacity: {self.battery_capacity} kWh\")\n",
        "\n",
        "# Creating an ElectricCar object\n",
        "ev_car = ElectricCar(\"Electric\", \"Tesla\", 75)\n",
        "\n",
        "# Calling methods\n",
        "ev_car.display_type()        # Output: Vehicle type: Electric\n",
        "ev_car.display_make()        # Output: Car make: Tesla\n",
        "ev_car.display_battery()     # Output: Battery capacity: 75 kWh\n"
      ],
      "metadata": {
        "colab": {
          "base_uri": "https://localhost:8080/"
        },
        "id": "dlwhkTaQngEw",
        "outputId": "297b6ecb-eb61-4703-d08e-00915632a913"
      },
      "execution_count": 5,
      "outputs": [
        {
          "output_type": "stream",
          "name": "stdout",
          "text": [
            "Vehicle type: Electric\n",
            "Car make: Tesla\n",
            "Battery capacity: 75 kWh\n"
          ]
        }
      ]
    },
    {
      "cell_type": "code",
      "source": [
        "# 4. Demonstrate polymorphism by creating a base class Bird with a method fly(). Create two derived classes Sparrow and Penguin that override the fly() method.\n",
        "# Base class Bird\n",
        "class Bird:\n",
        "    def fly(self):\n",
        "        print(\"This bird can fly.\")\n",
        "\n",
        "# Derived class Sparrow\n",
        "class Sparrow(Bird):\n",
        "    def fly(self):\n",
        "        print(\"Sparrow flies high in the sky.\")\n",
        "\n",
        "# Derived class Penguin\n",
        "class Penguin(Bird):\n",
        "    def fly(self):\n",
        "        print(\"Penguins cannot fly.\")\n",
        "\n",
        "# Creating objects of Sparrow and Penguin\n",
        "sparrow = Sparrow()\n",
        "penguin = Penguin()\n",
        "\n",
        "# Demonstrating polymorphism\n",
        "sparrow.fly()   # Output: Sparrow flies high in the sky.\n",
        "penguin.fly()   # Output: Penguins cannot fly.\n"
      ],
      "metadata": {
        "colab": {
          "base_uri": "https://localhost:8080/"
        },
        "id": "l4QEuO4Ln5Ju",
        "outputId": "f9de0779-bff6-4887-c981-ef0f33434975"
      },
      "execution_count": 6,
      "outputs": [
        {
          "output_type": "stream",
          "name": "stdout",
          "text": [
            "Sparrow flies high in the sky.\n",
            "Penguins cannot fly.\n"
          ]
        }
      ]
    },
    {
      "cell_type": "code",
      "source": [
        "# 5. Write a program to demonstrate encapsulation by creating a class BankAccount with private attributes balance and methods to deposit, withdraw, and check balance.\n",
        "\n",
        "class BankAccount:\n",
        "    def __init__(self, initial_balance):\n",
        "        # Private attribute\n",
        "        self.__balance = initial_balance\n",
        "\n",
        "    # Method to deposit money\n",
        "    def deposit(self, amount):\n",
        "        if amount > 0:\n",
        "            self.__balance += amount\n",
        "            print(f\"Deposited: {amount}\")\n",
        "        else:\n",
        "            print(\"Deposit amount must be positive.\")\n",
        "\n",
        "    # Method to withdraw money\n",
        "    def withdraw(self, amount):\n",
        "        if amount > 0 and amount <= self.__balance:\n",
        "            self.__balance -= amount\n",
        "            print(f\"Withdrew: {amount}\")\n",
        "        elif amount > self.__balance:\n",
        "            print(\"Insufficient balance.\")\n",
        "        else:\n",
        "            print(\"Withdrawal amount must be positive.\")\n",
        "\n",
        "    # Method to check balance\n",
        "    def check_balance(self):\n",
        "        print(f\"Current balance: {self.__balance}\")\n",
        "\n",
        "# Creating a BankAccount object\n",
        "account = BankAccount(1000)\n",
        "\n",
        "# Demonstrating encapsulation\n",
        "account.deposit(500)      # Deposits 500\n",
        "account.withdraw(200)     # Withdraws 200\n",
        "account.check_balance()   # Shows the current balance\n",
        "\n",
        "# Trying to directly access the private balance attribute (this will cause an error)\n",
        "# print(account.__balance)  # Uncommenting this will raise an AttributeError\n"
      ],
      "metadata": {
        "colab": {
          "base_uri": "https://localhost:8080/"
        },
        "id": "9YzcrBLpoFeN",
        "outputId": "1e29b393-8cec-413c-a034-f40ca8862b39"
      },
      "execution_count": 7,
      "outputs": [
        {
          "output_type": "stream",
          "name": "stdout",
          "text": [
            "Deposited: 500\n",
            "Withdrew: 200\n",
            "Current balance: 1300\n"
          ]
        }
      ]
    },
    {
      "cell_type": "code",
      "source": [
        "# 6. Demonstrate runtime polymorphism using a method play() in a base class Instrument. Derive classes Guitar and Piano that implement their own version of play().\n",
        "# Base class Instrument\n",
        "class Instrument:\n",
        "    def play(self):\n",
        "        print(\"Playing instrument\")\n",
        "\n",
        "# Derived class Guitar\n",
        "class Guitar(Instrument):\n",
        "    def play(self):\n",
        "        print(\"Playing Guitar\")\n",
        "\n",
        "# Derived class Piano\n",
        "class Piano(Instrument):\n",
        "    def play(self):\n",
        "        print(\"Playing Piano\")\n",
        "\n",
        "# Creating objects of Guitar and Piano\n",
        "guitar = Guitar()\n",
        "piano = Piano()\n",
        "\n",
        "# Demonstrating runtime polymorphism\n",
        "# The correct play() method is called based on the object type (not the reference type)\n",
        "instruments = [guitar, piano]\n",
        "\n",
        "for instrument in instruments:\n",
        "    instrument.play()\n"
      ],
      "metadata": {
        "id": "EBC1HSiWoRQY"
      },
      "execution_count": 8,
      "outputs": []
    },
    {
      "cell_type": "code",
      "source": [
        "# 7. Create a class MathOperations with a class method add_numbers() to add two numbers and a static method subtract_numbers() to subtract two numbers.\n",
        "\n",
        "class MathOperations:\n",
        "    # Class method to add two numbers\n",
        "    @classmethod\n",
        "    def add_numbers(cls, num1, num2):\n",
        "        return num1 + num2\n",
        "\n",
        "    # Static method to subtract two numbers\n",
        "    @staticmethod\n",
        "    def subtract_numbers(num1, num2):\n",
        "        return num1 - num2\n",
        "\n",
        "# Using the class method and static method\n",
        "result_add = MathOperations.add_numbers(10, 5)   # Using class method\n",
        "result_subtract = MathOperations.subtract_numbers(10, 5)  # Using static method\n",
        "\n",
        "print(f\"Addition result: {result_add}\")        # Output: Addition result: 15\n",
        "print(f\"Subtraction result: {result_subtract}\")  # Output: Subtraction result: 5\n"
      ],
      "metadata": {
        "colab": {
          "base_uri": "https://localhost:8080/"
        },
        "id": "ZO1Dl1FloayG",
        "outputId": "4b4c2bf3-887b-40cd-9a78-e667ed8a48f0"
      },
      "execution_count": 9,
      "outputs": [
        {
          "output_type": "stream",
          "name": "stdout",
          "text": [
            "Addition result: 15\n",
            "Subtraction result: 5\n"
          ]
        }
      ]
    },
    {
      "cell_type": "code",
      "source": [
        "# 8. Implement a class Person with a class method to count the total number of persons created.\n",
        "\n",
        "class Person:\n",
        "    # Class variable to keep track of the count\n",
        "    total_persons = 0\n",
        "\n",
        "    def __init__(self, name, age):\n",
        "        self.name = name\n",
        "        self.age = age\n",
        "        # Increment the count when a new Person object is created\n",
        "        Person.total_persons += 1\n",
        "\n",
        "    # Class method to get the total number of persons\n",
        "    @classmethod\n",
        "    def count_persons(cls):\n",
        "        return cls.total_persons\n",
        "\n",
        "# Creating Person objects\n",
        "person1 = Person(\"Alice\", 30)\n",
        "person2 = Person(\"Bob\", 25)\n",
        "person3 = Person(\"Charlie\", 35)\n",
        "\n",
        "# Calling the class method to get the total number of persons\n",
        "print(f\"Total persons created: {Person.count_persons()}\")  # Output: Total persons created: 3\n"
      ],
      "metadata": {
        "colab": {
          "base_uri": "https://localhost:8080/"
        },
        "id": "pTOsHJGAop4E",
        "outputId": "69724049-0a4b-4e30-ca95-c762a50ceaaa"
      },
      "execution_count": 11,
      "outputs": [
        {
          "output_type": "stream",
          "name": "stdout",
          "text": [
            "Total persons created: 3\n"
          ]
        }
      ]
    },
    {
      "cell_type": "code",
      "source": [
        "#9. Write a class Fraction with attributes numerator and denominator. Override the str method to display the fraction as \"numerator/denominator\"\n",
        "class Fraction:\n",
        "    def __init__(self, numerator, denominator):\n",
        "        self.numerator = numerator\n",
        "        self.denominator = denominator\n",
        "\n",
        "    # Overriding the __str__ method to display the fraction\n",
        "    def __str__(self):\n",
        "        return f\"{self.numerator}/{self.denominator}\"\n",
        "\n",
        "# Creating a Fraction object\n",
        "fraction = Fraction(3, 4)\n",
        "\n",
        "# Printing the Fraction object, which calls the __str__ method\n",
        "print(fraction)  # Output: 3/4\n"
      ],
      "metadata": {
        "colab": {
          "base_uri": "https://localhost:8080/"
        },
        "id": "bXiu7oFzoyAT",
        "outputId": "d9e90baa-86e8-4c72-c9bb-171e75b74d4d"
      },
      "execution_count": 10,
      "outputs": [
        {
          "output_type": "stream",
          "name": "stdout",
          "text": [
            "3/4\n"
          ]
        }
      ]
    },
    {
      "cell_type": "code",
      "source": [
        "#10. Demonstrate operator overloading by creating a class Vector and overriding the add method to add two vectors.\n",
        "\n",
        "class Vector:\n",
        "    def __init__(self, x, y):\n",
        "        self.x = x\n",
        "        self.y = y\n",
        "\n",
        "    # Overloading the + operator to add two vectors\n",
        "    def __add__(self, other):\n",
        "        # Adding corresponding components of two vectors\n",
        "        return Vector(self.x + other.x, self.y + other.y)\n",
        "\n",
        "    # Method to display the vector\n",
        "    def __str__(self):\n",
        "        return f\"({self.x}, {self.y})\"\n",
        "\n",
        "# Creating two Vector objects\n",
        "vector1 = Vector(2, 3)\n",
        "vector2 = Vector(4, 5)\n",
        "\n",
        "# Adding the two vectors using the overloaded + operator\n",
        "result = vector1 + vector2\n",
        "\n",
        "# Displaying the result\n",
        "print(f\"Result of addition: {result}\")  # Output: Result of addition: (6, 8)\n"
      ],
      "metadata": {
        "colab": {
          "base_uri": "https://localhost:8080/"
        },
        "id": "Mf_N1edXo9cy",
        "outputId": "1ee7f972-ffa7-49ea-f10d-043e45ab2538"
      },
      "execution_count": 12,
      "outputs": [
        {
          "output_type": "stream",
          "name": "stdout",
          "text": [
            "Result of addition: (6, 8)\n"
          ]
        }
      ]
    },
    {
      "cell_type": "code",
      "source": [
        "#11. Create a class Person with attributes name and age. Add a method greet() that prints \"Hello, my name  {name} and I am {age} years old.\"\n",
        "\n",
        "class Person:\n",
        "    def __init__(self, name, age):\n",
        "        self.name = name\n",
        "        self.age = age\n",
        "\n",
        "    # Method to greet\n",
        "    def greet(self):\n",
        "        print(f\"Hello, my name is {self.name} and I am {self.age} years old.\")\n",
        "\n",
        "# Creating a Person object\n",
        "person1 = Person(\"Alice\", 30)\n",
        "\n",
        "# Calling the greet method\n",
        "person1.greet()  # Output: Hello, my name is Alice and I am 30 years old.\n"
      ],
      "metadata": {
        "colab": {
          "base_uri": "https://localhost:8080/"
        },
        "id": "6goHCq3VpHt5",
        "outputId": "ecd29627-fcbc-4b9d-f8fe-153fd4cc052d"
      },
      "execution_count": 13,
      "outputs": [
        {
          "output_type": "stream",
          "name": "stdout",
          "text": [
            "Hello, my name is Alice and I am 30 years old.\n"
          ]
        }
      ]
    },
    {
      "cell_type": "code",
      "source": [
        "#12. Implement a class Student with attributes name and grades. Create a method average_grade() to compute\n",
        "\n",
        "class Student:\n",
        "    def __init__(self, name, grades):\n",
        "        self.name = name\n",
        "        self.grades = grades\n",
        "\n",
        "    # Method to compute the average of grades\n",
        "    def average_grade(self):\n",
        "        return sum(self.grades) / len(self.grades) if self.grades else 0\n",
        "\n",
        "# Creating a Student object\n",
        "student1 = Student(\"Alice\", [90, 85, 88, 92])\n",
        "\n",
        "# Calling the average_grade method\n",
        "average = student1.average_grade()\n",
        "\n",
        "# Displaying the result\n",
        "print(f\"{student1.name}'s average grade is: {average:.2f}\")  # Output: Alice's average grade is: 88.75\n"
      ],
      "metadata": {
        "colab": {
          "base_uri": "https://localhost:8080/"
        },
        "id": "-GfLBVtppUtu",
        "outputId": "9b61255d-06cb-4537-c5e6-0056f81c82dd"
      },
      "execution_count": 14,
      "outputs": [
        {
          "output_type": "stream",
          "name": "stdout",
          "text": [
            "Alice's average grade is: 88.75\n"
          ]
        }
      ]
    },
    {
      "cell_type": "code",
      "source": [
        "#13. Create a class Rectangle with methods set_dimensions() to set the dimensions and area() to calculate the area.\n",
        "class Rectangle:\n",
        "    def __init__(self):\n",
        "        self.length = 0\n",
        "        self.width = 0\n",
        "\n",
        "    # Method to set the dimensions of the rectangle\n",
        "    def set_dimensions(self, length, width):\n",
        "        self.length = length\n",
        "        self.width = width\n",
        "\n",
        "    # Method to calculate the area of the rectangle\n",
        "    def area(self):\n",
        "        return self.length * self.width\n",
        "\n",
        "# Creating a Rectangle object\n",
        "rectangle1 = Rectangle()\n",
        "\n",
        "# Setting the dimensions\n",
        "rectangle1.set_dimensions(5, 3)\n",
        "\n",
        "# Calculating and displaying the area\n",
        "area = rectangle1.area()\n",
        "print(f\"The area of the rectangle is: {area}\")  # Output: The area of the rectangle is: 15\n"
      ],
      "metadata": {
        "colab": {
          "base_uri": "https://localhost:8080/"
        },
        "id": "UsYsD6_5pldw",
        "outputId": "12f42a0c-ea53-47cd-cd9e-6e1003d67836"
      },
      "execution_count": 15,
      "outputs": [
        {
          "output_type": "stream",
          "name": "stdout",
          "text": [
            "The area of the rectangle is: 15\n"
          ]
        }
      ]
    },
    {
      "cell_type": "code",
      "source": [
        "#14. Create a class Employee with a method calculate_salary() that computes the salary based on hours worked and hourly rate. Create a derived class Manager that adds a bonus to the salary\n",
        "# Base class Employee\n",
        "class Employee:\n",
        "    def __init__(self, name, hours_worked, hourly_rate):\n",
        "        self.name = name\n",
        "        self.hours_worked = hours_worked\n",
        "        self.hourly_rate = hourly_rate\n",
        "\n",
        "    # Method to calculate the salary\n",
        "    def calculate_salary(self):\n",
        "        return self.hours_worked * self.hourly_rate\n",
        "\n",
        "# Derived class Manager\n",
        "class Manager(Employee):\n",
        "    def __init__(self, name, hours_worked, hourly_rate, bonus):\n",
        "        super().__init__(name, hours_worked, hourly_rate)  # Call Employee's constructor\n",
        "        self.bonus = bonus\n",
        "\n",
        "    # Overriding calculate_salary to include bonus\n",
        "    def calculate_salary(self):\n",
        "        base_salary = super().calculate_salary()  # Get base salary from Employee class\n",
        "        return base_salary + self.bonus\n",
        "\n",
        "# Creating Employee and Manager objects\n",
        "employee = Employee(\"Alice\", 160, 20)  # 160 hours worked, $20 per hour\n",
        "manager = Manager(\"Bob\", 160, 25, 1000)  # 160 hours worked, $25 per hour + $1000 bonus\n",
        "\n",
        "# Calculating and displaying the salary for both Employee and Manager\n",
        "print(f\"{employee.name}'s salary is: ${employee.calculate_salary()}\")  # Output: Alice's salary is: $3200\n",
        "print(f\"{manager.name}'s salary is: ${manager.calculate_salary()}\")  # Output: Bob's salary is: $5000\n"
      ],
      "metadata": {
        "colab": {
          "base_uri": "https://localhost:8080/"
        },
        "id": "cHITWeAfpvOX",
        "outputId": "589e2696-8c66-45dd-f51f-b525bf4e726a"
      },
      "execution_count": 16,
      "outputs": [
        {
          "output_type": "stream",
          "name": "stdout",
          "text": [
            "Alice's salary is: $3200\n",
            "Bob's salary is: $5000\n"
          ]
        }
      ]
    },
    {
      "cell_type": "code",
      "source": [
        "# 15. Create a class Product with attributes name, price, and quantity. Implement a method total_price() that calculates the total price of the product\n",
        "class Product:\n",
        "    def __init__(self, name, price, quantity):\n",
        "        self.name = name\n",
        "        self.price = price\n",
        "        self.quantity = quantity\n",
        "\n",
        "    # Method to calculate the total price of the product\n",
        "    def total_price(self):\n",
        "        return self.price * self.quantity\n",
        "\n",
        "# Creating a Product object\n",
        "product1 = Product(\"Laptop\", 1000, 5)\n",
        "\n",
        "# Calculating and displaying the total price\n",
        "total = product1.total_price()\n",
        "print(f\"The total price of {product1.name} is: ${total}\")  # Output: The total price of Laptop is: $5000\n"
      ],
      "metadata": {
        "colab": {
          "base_uri": "https://localhost:8080/"
        },
        "id": "Sl8DsUp1p7iJ",
        "outputId": "56e68e5d-0b02-4c7b-a702-69ec125cf1fe"
      },
      "execution_count": 17,
      "outputs": [
        {
          "output_type": "stream",
          "name": "stdout",
          "text": [
            "The total price of Laptop is: $5000\n"
          ]
        }
      ]
    },
    {
      "cell_type": "code",
      "source": [
        "#16. Create a class Animal with an abstract method sound(). Create two derived classes Cow and Sheep that implement the sound() method.\n",
        "from abc import ABC, abstractmethod\n",
        "\n",
        "# Abstract class Animal\n",
        "class Animal(ABC):\n",
        "    @abstractmethod\n",
        "    def sound(self):\n",
        "        pass\n",
        "\n",
        "# Derived class Cow\n",
        "class Cow(Animal):\n",
        "    def sound(self):\n",
        "        return \"Moo\"\n",
        "\n",
        "# Derived class Sheep\n",
        "class Sheep(Animal):\n",
        "    def sound(self):\n",
        "        return \"Baa\"\n",
        "\n",
        "# Creating objects of Cow and Sheep\n",
        "cow = Cow()\n",
        "sheep = Sheep()\n",
        "\n",
        "# Displaying the sound made by the animals\n",
        "print(f\"Cow makes sound: {cow.sound()}\")  # Output: Cow makes sound: Moo\n",
        "print(f\"Sheep makes sound: {sheep.sound()}\")  # Output: Sheep makes sound: Baa\n"
      ],
      "metadata": {
        "colab": {
          "base_uri": "https://localhost:8080/"
        },
        "id": "rfpKxnUGqHka",
        "outputId": "2960d533-e22c-4f47-d7a6-f7272dbf1d39"
      },
      "execution_count": 19,
      "outputs": [
        {
          "output_type": "stream",
          "name": "stdout",
          "text": [
            "Cow makes sound: Moo\n",
            "Sheep makes sound: Baa\n"
          ]
        }
      ]
    },
    {
      "cell_type": "code",
      "source": [
        "# 17. Create a class Book with attributes title, author, and year_published. Add a method get_book_info() that returns a formatted string with the book's details.\n",
        "class Book:\n",
        "    def __init__(self, title, author, year_published):\n",
        "        self.title = title\n",
        "        self.author = author\n",
        "        self.year_published = year_published\n",
        "\n",
        "    # Method to get the book's information in a formatted string\n",
        "    def get_book_info(self):\n",
        "        return f\"Title: {self.title}, Author: {self.author}, Year Published: {self.year_published}\"\n",
        "\n",
        "# Creating a Book object\n",
        "book1 = Book(\"The Great Gatsby\", \"F. Scott Fitzgerald\", 1925)\n",
        "\n",
        "# Calling the get_book_info method to display the book's details\n",
        "book_info = book1.get_book_info()\n",
        "print(book_info)  # Output: Title: The Great Gatsby, Author: F. Scott Fitzgerald, Year Published: 1925\n"
      ],
      "metadata": {
        "colab": {
          "base_uri": "https://localhost:8080/"
        },
        "id": "ljcl1K4fqRtl",
        "outputId": "dd882ac0-4a70-4942-b168-72f17c05869e"
      },
      "execution_count": 20,
      "outputs": [
        {
          "output_type": "stream",
          "name": "stdout",
          "text": [
            "Title: The Great Gatsby, Author: F. Scott Fitzgerald, Year Published: 1925\n"
          ]
        }
      ]
    },
    {
      "cell_type": "code",
      "source": [
        "# 18. Create a class House with attributes address and price. Create a derived class Mansion that adds an attribute number_of_rooms\n",
        "# Base class House\n",
        "class House:\n",
        "    def __init__(self, address, price):\n",
        "        self.address = address\n",
        "        self.price = price\n",
        "\n",
        "    # Method to display house details\n",
        "    def get_details(self):\n",
        "        return f\"Address: {self.address}, Price: ${self.price}\"\n",
        "\n",
        "# Derived class Mansion\n",
        "class Mansion(House):\n",
        "    def __init__(self, address, price, number_of_rooms):\n",
        "        super().__init__(address, price)  # Call House's constructor\n",
        "        self.number_of_rooms = number_of_rooms\n",
        "\n",
        "    # Method to display mansion details, including number of rooms\n",
        "    def get_details(self):\n",
        "        base_details = super().get_details()  # Get details from the House class\n",
        "        return f\"{base_details}, Number of rooms: {self.number_of_rooms}\"\n",
        "\n",
        "# Creating a House object\n",
        "house = House(\"123 Elm St.\", 250000)\n",
        "\n",
        "# Creating a Mansion object\n",
        "mansion = Mansion(\"456 Oak Ave.\", 1000000, 12)\n",
        "\n",
        "# Displaying details of both the house and mansion\n",
        "print(house.get_details())  # Output: Address: 123 Elm St., Price: $250000\n",
        "print(mansion.get_details())  # Output: Address: 456 Oak Ave., Price: $1000000, Number of rooms: 12\n"
      ],
      "metadata": {
        "colab": {
          "base_uri": "https://localhost:8080/"
        },
        "id": "Pe0d8pxvqi02",
        "outputId": "2da0e577-5a93-4a80-b835-65e867eaf618"
      },
      "execution_count": 21,
      "outputs": [
        {
          "output_type": "stream",
          "name": "stdout",
          "text": [
            "Address: 123 Elm St., Price: $250000\n",
            "Address: 456 Oak Ave., Price: $1000000, Number of rooms: 12\n"
          ]
        }
      ]
    }
  ]
}